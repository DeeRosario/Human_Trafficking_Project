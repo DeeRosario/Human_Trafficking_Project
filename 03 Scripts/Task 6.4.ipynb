{
 "cells": [
  {
   "cell_type": "markdown",
   "id": "3069a231",
   "metadata": {},
   "source": [
    "# Task 6.4 - Supervised Machine Learning - Regression\n",
    "\n",
    "## This Script contains the following:\n",
    "\n",
    "### Importing Data Libraries\n",
    "### Data Cleaning \n",
    "### Exploration for Regression Analysis\n",
    "### Hypothesis\n",
    "### Observations\n",
    "### Final Thoughts\n"
   ]
  },
  {
   "cell_type": "markdown",
   "id": "485a8c1d",
   "metadata": {},
   "source": [
    "## 1. Importing Data Libraries"
   ]
  },
  {
   "cell_type": "code",
   "execution_count": 1,
   "id": "0787925b",
   "metadata": {},
   "outputs": [],
   "source": [
    "import pandas as pd\n",
    "import numpy as np\n",
    "import seaborn as sns\n",
    "import matplotlib\n",
    "import matplotlib.pyplot as plt\n",
    "import os\n",
    "import sklearn\n",
    "from sklearn.model_selection import train_test_split \n",
    "from sklearn.linear_model import LinearRegression\n",
    "from sklearn.metrics import mean_squared_error, r2_score"
   ]
  },
  {
   "cell_type": "code",
   "execution_count": 2,
   "id": "eb646cb8",
   "metadata": {},
   "outputs": [],
   "source": [
    "# Graphs created to be displayed within the notebook without the need to \"call\" them specifically.\n",
    "\n",
    "%matplotlib inline"
   ]
  },
  {
   "cell_type": "code",
   "execution_count": 3,
   "id": "1d9878c7",
   "metadata": {},
   "outputs": [],
   "source": [
    "# Set path\n",
    "path = r'C:\\Users\\asus\\Exercise 6.4A'"
   ]
  },
  {
   "cell_type": "code",
   "execution_count": 13,
   "id": "abddc4eb",
   "metadata": {},
   "outputs": [],
   "source": [
    "# import dataframe\n",
    "\n",
    "df = pd.read_csv(os.path.join(path, 'Data', 'FBI human trafficking files per state 2013-2022 CLEANED.csv '), index_col = False)"
   ]
  },
  {
   "cell_type": "code",
   "execution_count": 14,
   "id": "8c22b419",
   "metadata": {},
   "outputs": [
    {
     "data": {
      "text/plain": [
       "Index(['DATA_YEAR', 'AGENCY_TYPE_NAME', 'STATE_ABBR', 'STATE_NAME',\n",
       "       'COUNTY_NAME', 'REGION_NAME', 'POPULATION_GROUP_CODE',\n",
       "       'POPULATION_GROUP_DESC', 'OFFENSE_NAME', 'OFFENSE_SUBCAT_NAME',\n",
       "       'ACTUAL_COUNT'],\n",
       "      dtype='object')"
      ]
     },
     "execution_count": 14,
     "metadata": {},
     "output_type": "execute_result"
    }
   ],
   "source": [
    "df.columns"
   ]
  },
  {
   "cell_type": "code",
   "execution_count": 15,
   "id": "60012c9d",
   "metadata": {},
   "outputs": [
    {
     "data": {
      "text/html": [
       "<div>\n",
       "<style scoped>\n",
       "    .dataframe tbody tr th:only-of-type {\n",
       "        vertical-align: middle;\n",
       "    }\n",
       "\n",
       "    .dataframe tbody tr th {\n",
       "        vertical-align: top;\n",
       "    }\n",
       "\n",
       "    .dataframe thead th {\n",
       "        text-align: right;\n",
       "    }\n",
       "</style>\n",
       "<table border=\"1\" class=\"dataframe\">\n",
       "  <thead>\n",
       "    <tr style=\"text-align: right;\">\n",
       "      <th></th>\n",
       "      <th>DATA_YEAR</th>\n",
       "      <th>AGENCY_TYPE_NAME</th>\n",
       "      <th>STATE_ABBR</th>\n",
       "      <th>STATE_NAME</th>\n",
       "      <th>COUNTY_NAME</th>\n",
       "      <th>REGION_NAME</th>\n",
       "      <th>POPULATION_GROUP_CODE</th>\n",
       "      <th>POPULATION_GROUP_DESC</th>\n",
       "      <th>OFFENSE_NAME</th>\n",
       "      <th>OFFENSE_SUBCAT_NAME</th>\n",
       "      <th>ACTUAL_COUNT</th>\n",
       "    </tr>\n",
       "  </thead>\n",
       "  <tbody>\n",
       "    <tr>\n",
       "      <th>0</th>\n",
       "      <td>2013</td>\n",
       "      <td>County</td>\n",
       "      <td>MO</td>\n",
       "      <td>Missouri</td>\n",
       "      <td>ST LOUIS</td>\n",
       "      <td>Midwest</td>\n",
       "      <td>9A</td>\n",
       "      <td>MSA counties 100,000 or over</td>\n",
       "      <td>Human Trafficking</td>\n",
       "      <td>Commercial Sex Acts</td>\n",
       "      <td>6</td>\n",
       "    </tr>\n",
       "    <tr>\n",
       "      <th>1</th>\n",
       "      <td>2013</td>\n",
       "      <td>County</td>\n",
       "      <td>OH</td>\n",
       "      <td>Ohio</td>\n",
       "      <td>ALLEN</td>\n",
       "      <td>Midwest</td>\n",
       "      <td>9C</td>\n",
       "      <td>MSA counties from 10,000 thru 24,999</td>\n",
       "      <td>Human Trafficking</td>\n",
       "      <td>Commercial Sex Acts</td>\n",
       "      <td>1</td>\n",
       "    </tr>\n",
       "    <tr>\n",
       "      <th>2</th>\n",
       "      <td>2013</td>\n",
       "      <td>County</td>\n",
       "      <td>OH</td>\n",
       "      <td>Ohio</td>\n",
       "      <td>ALLEN</td>\n",
       "      <td>Midwest</td>\n",
       "      <td>9C</td>\n",
       "      <td>MSA counties from 10,000 thru 24,999</td>\n",
       "      <td>Human Trafficking</td>\n",
       "      <td>Involuntary Servitude</td>\n",
       "      <td>1</td>\n",
       "    </tr>\n",
       "    <tr>\n",
       "      <th>3</th>\n",
       "      <td>2013</td>\n",
       "      <td>City</td>\n",
       "      <td>TN</td>\n",
       "      <td>Tennessee</td>\n",
       "      <td>HAMBLEN, JEFFERSON</td>\n",
       "      <td>South</td>\n",
       "      <td>4</td>\n",
       "      <td>Cities from 25,000 thru 49,999</td>\n",
       "      <td>Human Trafficking</td>\n",
       "      <td>Commercial Sex Acts</td>\n",
       "      <td>1</td>\n",
       "    </tr>\n",
       "    <tr>\n",
       "      <th>4</th>\n",
       "      <td>2013</td>\n",
       "      <td>City</td>\n",
       "      <td>TN</td>\n",
       "      <td>Tennessee</td>\n",
       "      <td>SHELBY</td>\n",
       "      <td>South</td>\n",
       "      <td>1B</td>\n",
       "      <td>Cities from 500,000 thru 999,999</td>\n",
       "      <td>Human Trafficking</td>\n",
       "      <td>Commercial Sex Acts</td>\n",
       "      <td>3</td>\n",
       "    </tr>\n",
       "    <tr>\n",
       "      <th>5</th>\n",
       "      <td>2013</td>\n",
       "      <td>City</td>\n",
       "      <td>WA</td>\n",
       "      <td>Washington</td>\n",
       "      <td>KING</td>\n",
       "      <td>West</td>\n",
       "      <td>3</td>\n",
       "      <td>Cities from 50,000 thru 99,999</td>\n",
       "      <td>Human Trafficking</td>\n",
       "      <td>Commercial Sex Acts</td>\n",
       "      <td>2</td>\n",
       "    </tr>\n",
       "    <tr>\n",
       "      <th>6</th>\n",
       "      <td>2014</td>\n",
       "      <td>City</td>\n",
       "      <td>AK</td>\n",
       "      <td>Alaska</td>\n",
       "      <td>ANCHORAGE</td>\n",
       "      <td>West</td>\n",
       "      <td>1C</td>\n",
       "      <td>Cities from 250,000 thru 499,999</td>\n",
       "      <td>Human Trafficking</td>\n",
       "      <td>Commercial Sex Acts</td>\n",
       "      <td>2</td>\n",
       "    </tr>\n",
       "    <tr>\n",
       "      <th>7</th>\n",
       "      <td>2014</td>\n",
       "      <td>State Police</td>\n",
       "      <td>AK</td>\n",
       "      <td>Alaska</td>\n",
       "      <td>NOT SPECIFIED</td>\n",
       "      <td>West</td>\n",
       "      <td>8A</td>\n",
       "      <td>Non-MSA counties 100,000 or over</td>\n",
       "      <td>Human Trafficking</td>\n",
       "      <td>Commercial Sex Acts</td>\n",
       "      <td>9</td>\n",
       "    </tr>\n",
       "    <tr>\n",
       "      <th>8</th>\n",
       "      <td>2014</td>\n",
       "      <td>City</td>\n",
       "      <td>AZ</td>\n",
       "      <td>Arizona</td>\n",
       "      <td>MARICOPA</td>\n",
       "      <td>West</td>\n",
       "      <td>3</td>\n",
       "      <td>Cities from 50,000 thru 99,999</td>\n",
       "      <td>Human Trafficking</td>\n",
       "      <td>Commercial Sex Acts</td>\n",
       "      <td>2</td>\n",
       "    </tr>\n",
       "    <tr>\n",
       "      <th>9</th>\n",
       "      <td>2014</td>\n",
       "      <td>City</td>\n",
       "      <td>AZ</td>\n",
       "      <td>Arizona</td>\n",
       "      <td>MARICOPA</td>\n",
       "      <td>West</td>\n",
       "      <td>2</td>\n",
       "      <td>Cities from 100,000 thru 249,999</td>\n",
       "      <td>Human Trafficking</td>\n",
       "      <td>Commercial Sex Acts</td>\n",
       "      <td>1</td>\n",
       "    </tr>\n",
       "    <tr>\n",
       "      <th>10</th>\n",
       "      <td>2014</td>\n",
       "      <td>City</td>\n",
       "      <td>AZ</td>\n",
       "      <td>Arizona</td>\n",
       "      <td>MARICOPA</td>\n",
       "      <td>West</td>\n",
       "      <td>3</td>\n",
       "      <td>Cities from 50,000 thru 99,999</td>\n",
       "      <td>Human Trafficking</td>\n",
       "      <td>Commercial Sex Acts</td>\n",
       "      <td>6</td>\n",
       "    </tr>\n",
       "    <tr>\n",
       "      <th>11</th>\n",
       "      <td>2014</td>\n",
       "      <td>City</td>\n",
       "      <td>AZ</td>\n",
       "      <td>Arizona</td>\n",
       "      <td>MARICOPA</td>\n",
       "      <td>West</td>\n",
       "      <td>2</td>\n",
       "      <td>Cities from 100,000 thru 249,999</td>\n",
       "      <td>Human Trafficking</td>\n",
       "      <td>Commercial Sex Acts</td>\n",
       "      <td>3</td>\n",
       "    </tr>\n",
       "    <tr>\n",
       "      <th>12</th>\n",
       "      <td>2014</td>\n",
       "      <td>City</td>\n",
       "      <td>AZ</td>\n",
       "      <td>Arizona</td>\n",
       "      <td>MARICOPA</td>\n",
       "      <td>West</td>\n",
       "      <td>2</td>\n",
       "      <td>Cities from 100,000 thru 249,999</td>\n",
       "      <td>Human Trafficking</td>\n",
       "      <td>Commercial Sex Acts</td>\n",
       "      <td>3</td>\n",
       "    </tr>\n",
       "    <tr>\n",
       "      <th>13</th>\n",
       "      <td>2014</td>\n",
       "      <td>City</td>\n",
       "      <td>AZ</td>\n",
       "      <td>Arizona</td>\n",
       "      <td>PIMA</td>\n",
       "      <td>West</td>\n",
       "      <td>1B</td>\n",
       "      <td>Cities from 500,000 thru 999,999</td>\n",
       "      <td>Human Trafficking</td>\n",
       "      <td>Commercial Sex Acts</td>\n",
       "      <td>1</td>\n",
       "    </tr>\n",
       "    <tr>\n",
       "      <th>14</th>\n",
       "      <td>2014</td>\n",
       "      <td>City</td>\n",
       "      <td>CO</td>\n",
       "      <td>Colorado</td>\n",
       "      <td>ADAMS, ARAPAHOE, DOUGLAS</td>\n",
       "      <td>West</td>\n",
       "      <td>1C</td>\n",
       "      <td>Cities from 250,000 thru 499,999</td>\n",
       "      <td>Human Trafficking</td>\n",
       "      <td>Commercial Sex Acts</td>\n",
       "      <td>3</td>\n",
       "    </tr>\n",
       "    <tr>\n",
       "      <th>15</th>\n",
       "      <td>2014</td>\n",
       "      <td>County</td>\n",
       "      <td>CO</td>\n",
       "      <td>Colorado</td>\n",
       "      <td>ARAPAHOE</td>\n",
       "      <td>West</td>\n",
       "      <td>9B</td>\n",
       "      <td>MSA counties from 25,000 thru 99,999</td>\n",
       "      <td>Human Trafficking</td>\n",
       "      <td>Commercial Sex Acts</td>\n",
       "      <td>2</td>\n",
       "    </tr>\n",
       "    <tr>\n",
       "      <th>16</th>\n",
       "      <td>2014</td>\n",
       "      <td>County</td>\n",
       "      <td>CO</td>\n",
       "      <td>Colorado</td>\n",
       "      <td>ARAPAHOE</td>\n",
       "      <td>West</td>\n",
       "      <td>9B</td>\n",
       "      <td>MSA counties from 25,000 thru 99,999</td>\n",
       "      <td>Human Trafficking</td>\n",
       "      <td>Involuntary Servitude</td>\n",
       "      <td>2</td>\n",
       "    </tr>\n",
       "    <tr>\n",
       "      <th>17</th>\n",
       "      <td>2014</td>\n",
       "      <td>County</td>\n",
       "      <td>CO</td>\n",
       "      <td>Colorado</td>\n",
       "      <td>JEFFERSON</td>\n",
       "      <td>West</td>\n",
       "      <td>9A</td>\n",
       "      <td>MSA counties 100,000 or over</td>\n",
       "      <td>Human Trafficking</td>\n",
       "      <td>Commercial Sex Acts</td>\n",
       "      <td>1</td>\n",
       "    </tr>\n",
       "    <tr>\n",
       "      <th>18</th>\n",
       "      <td>2014</td>\n",
       "      <td>City</td>\n",
       "      <td>CO</td>\n",
       "      <td>Colorado</td>\n",
       "      <td>JEFFERSON</td>\n",
       "      <td>West</td>\n",
       "      <td>2</td>\n",
       "      <td>Cities from 100,000 thru 249,999</td>\n",
       "      <td>Human Trafficking</td>\n",
       "      <td>Commercial Sex Acts</td>\n",
       "      <td>1</td>\n",
       "    </tr>\n",
       "    <tr>\n",
       "      <th>19</th>\n",
       "      <td>2014</td>\n",
       "      <td>City</td>\n",
       "      <td>CO</td>\n",
       "      <td>Colorado</td>\n",
       "      <td>WELD</td>\n",
       "      <td>West</td>\n",
       "      <td>3</td>\n",
       "      <td>Cities from 50,000 thru 99,999</td>\n",
       "      <td>Human Trafficking</td>\n",
       "      <td>Commercial Sex Acts</td>\n",
       "      <td>4</td>\n",
       "    </tr>\n",
       "  </tbody>\n",
       "</table>\n",
       "</div>"
      ],
      "text/plain": [
       "    DATA_YEAR AGENCY_TYPE_NAME STATE_ABBR  STATE_NAME  \\\n",
       "0        2013           County         MO    Missouri   \n",
       "1        2013           County         OH        Ohio   \n",
       "2        2013           County         OH        Ohio   \n",
       "3        2013             City         TN   Tennessee   \n",
       "4        2013             City         TN   Tennessee   \n",
       "5        2013             City         WA  Washington   \n",
       "6        2014             City         AK      Alaska   \n",
       "7        2014     State Police         AK      Alaska   \n",
       "8        2014             City         AZ     Arizona   \n",
       "9        2014             City         AZ     Arizona   \n",
       "10       2014             City         AZ     Arizona   \n",
       "11       2014             City         AZ     Arizona   \n",
       "12       2014             City         AZ     Arizona   \n",
       "13       2014             City         AZ     Arizona   \n",
       "14       2014             City         CO    Colorado   \n",
       "15       2014           County         CO    Colorado   \n",
       "16       2014           County         CO    Colorado   \n",
       "17       2014           County         CO    Colorado   \n",
       "18       2014             City         CO    Colorado   \n",
       "19       2014             City         CO    Colorado   \n",
       "\n",
       "                 COUNTY_NAME REGION_NAME POPULATION_GROUP_CODE  \\\n",
       "0                   ST LOUIS     Midwest                    9A   \n",
       "1                      ALLEN     Midwest                    9C   \n",
       "2                      ALLEN     Midwest                    9C   \n",
       "3         HAMBLEN, JEFFERSON       South                     4   \n",
       "4                     SHELBY       South                    1B   \n",
       "5                       KING        West                     3   \n",
       "6                  ANCHORAGE        West                    1C   \n",
       "7              NOT SPECIFIED        West                    8A   \n",
       "8                   MARICOPA        West                     3   \n",
       "9                   MARICOPA        West                     2   \n",
       "10                  MARICOPA        West                     3   \n",
       "11                  MARICOPA        West                     2   \n",
       "12                  MARICOPA        West                     2   \n",
       "13                      PIMA        West                    1B   \n",
       "14  ADAMS, ARAPAHOE, DOUGLAS        West                    1C   \n",
       "15                  ARAPAHOE        West                    9B   \n",
       "16                  ARAPAHOE        West                    9B   \n",
       "17                 JEFFERSON        West                    9A   \n",
       "18                 JEFFERSON        West                     2   \n",
       "19                      WELD        West                     3   \n",
       "\n",
       "                   POPULATION_GROUP_DESC       OFFENSE_NAME  \\\n",
       "0           MSA counties 100,000 or over  Human Trafficking   \n",
       "1   MSA counties from 10,000 thru 24,999  Human Trafficking   \n",
       "2   MSA counties from 10,000 thru 24,999  Human Trafficking   \n",
       "3         Cities from 25,000 thru 49,999  Human Trafficking   \n",
       "4       Cities from 500,000 thru 999,999  Human Trafficking   \n",
       "5         Cities from 50,000 thru 99,999  Human Trafficking   \n",
       "6       Cities from 250,000 thru 499,999  Human Trafficking   \n",
       "7       Non-MSA counties 100,000 or over  Human Trafficking   \n",
       "8         Cities from 50,000 thru 99,999  Human Trafficking   \n",
       "9       Cities from 100,000 thru 249,999  Human Trafficking   \n",
       "10        Cities from 50,000 thru 99,999  Human Trafficking   \n",
       "11      Cities from 100,000 thru 249,999  Human Trafficking   \n",
       "12      Cities from 100,000 thru 249,999  Human Trafficking   \n",
       "13      Cities from 500,000 thru 999,999  Human Trafficking   \n",
       "14      Cities from 250,000 thru 499,999  Human Trafficking   \n",
       "15  MSA counties from 25,000 thru 99,999  Human Trafficking   \n",
       "16  MSA counties from 25,000 thru 99,999  Human Trafficking   \n",
       "17          MSA counties 100,000 or over  Human Trafficking   \n",
       "18      Cities from 100,000 thru 249,999  Human Trafficking   \n",
       "19        Cities from 50,000 thru 99,999  Human Trafficking   \n",
       "\n",
       "      OFFENSE_SUBCAT_NAME  ACTUAL_COUNT  \n",
       "0     Commercial Sex Acts             6  \n",
       "1     Commercial Sex Acts             1  \n",
       "2   Involuntary Servitude             1  \n",
       "3     Commercial Sex Acts             1  \n",
       "4     Commercial Sex Acts             3  \n",
       "5     Commercial Sex Acts             2  \n",
       "6     Commercial Sex Acts             2  \n",
       "7     Commercial Sex Acts             9  \n",
       "8     Commercial Sex Acts             2  \n",
       "9     Commercial Sex Acts             1  \n",
       "10    Commercial Sex Acts             6  \n",
       "11    Commercial Sex Acts             3  \n",
       "12    Commercial Sex Acts             3  \n",
       "13    Commercial Sex Acts             1  \n",
       "14    Commercial Sex Acts             3  \n",
       "15    Commercial Sex Acts             2  \n",
       "16  Involuntary Servitude             2  \n",
       "17    Commercial Sex Acts             1  \n",
       "18    Commercial Sex Acts             1  \n",
       "19    Commercial Sex Acts             4  "
      ]
     },
     "execution_count": 15,
     "metadata": {},
     "output_type": "execute_result"
    }
   ],
   "source": [
    "df.head(20)"
   ]
  },
  {
   "cell_type": "code",
   "execution_count": 17,
   "id": "18dcd481",
   "metadata": {},
   "outputs": [
    {
     "data": {
      "text/plain": [
       "(3894, 11)"
      ]
     },
     "execution_count": 17,
     "metadata": {},
     "output_type": "execute_result"
    }
   ],
   "source": [
    "df.shape"
   ]
  },
  {
   "cell_type": "markdown",
   "id": "3dc725cb",
   "metadata": {},
   "source": [
    "## 2. Data Cleaning"
   ]
  },
  {
   "cell_type": "code",
   "execution_count": 21,
   "id": "f7a679c2",
   "metadata": {},
   "outputs": [
    {
     "data": {
      "text/plain": [
       "DATA_YEAR                 int64\n",
       "AGENCY_TYPE_NAME         object\n",
       "STATE_ABBR               object\n",
       "STATE_NAME               object\n",
       "COUNTY_NAME              object\n",
       "REGION_NAME              object\n",
       "POPULATION_GROUP_CODE    object\n",
       "POPULATION_GROUP_DESC    object\n",
       "OFFENSE_NAME             object\n",
       "OFFENSE_SUBCAT_NAME      object\n",
       "ACTUAL_COUNT              int64\n",
       "dtype: object"
      ]
     },
     "execution_count": 21,
     "metadata": {},
     "output_type": "execute_result"
    }
   ],
   "source": [
    "df.dtypes"
   ]
  },
  {
   "cell_type": "code",
   "execution_count": 22,
   "id": "0babf48f",
   "metadata": {},
   "outputs": [],
   "source": [
    "# create data subset for df dataframe\n",
    "\n",
    "dfsub = df.drop(['STATE_ABBR', 'COUNTY_NAME', 'POPULATION_GROUP_CODE', 'POPULATION_GROUP_DESC' ], axis = 1)"
   ]
  },
  {
   "cell_type": "code",
   "execution_count": 23,
   "id": "b365231c",
   "metadata": {},
   "outputs": [
    {
     "data": {
      "text/html": [
       "<div>\n",
       "<style scoped>\n",
       "    .dataframe tbody tr th:only-of-type {\n",
       "        vertical-align: middle;\n",
       "    }\n",
       "\n",
       "    .dataframe tbody tr th {\n",
       "        vertical-align: top;\n",
       "    }\n",
       "\n",
       "    .dataframe thead th {\n",
       "        text-align: right;\n",
       "    }\n",
       "</style>\n",
       "<table border=\"1\" class=\"dataframe\">\n",
       "  <thead>\n",
       "    <tr style=\"text-align: right;\">\n",
       "      <th></th>\n",
       "      <th>DATA_YEAR</th>\n",
       "      <th>AGENCY_TYPE_NAME</th>\n",
       "      <th>STATE_NAME</th>\n",
       "      <th>REGION_NAME</th>\n",
       "      <th>OFFENSE_NAME</th>\n",
       "      <th>OFFENSE_SUBCAT_NAME</th>\n",
       "      <th>ACTUAL_COUNT</th>\n",
       "    </tr>\n",
       "  </thead>\n",
       "  <tbody>\n",
       "    <tr>\n",
       "      <th>0</th>\n",
       "      <td>2013</td>\n",
       "      <td>County</td>\n",
       "      <td>Missouri</td>\n",
       "      <td>Midwest</td>\n",
       "      <td>Human Trafficking</td>\n",
       "      <td>Commercial Sex Acts</td>\n",
       "      <td>6</td>\n",
       "    </tr>\n",
       "    <tr>\n",
       "      <th>1</th>\n",
       "      <td>2013</td>\n",
       "      <td>County</td>\n",
       "      <td>Ohio</td>\n",
       "      <td>Midwest</td>\n",
       "      <td>Human Trafficking</td>\n",
       "      <td>Commercial Sex Acts</td>\n",
       "      <td>1</td>\n",
       "    </tr>\n",
       "    <tr>\n",
       "      <th>2</th>\n",
       "      <td>2013</td>\n",
       "      <td>County</td>\n",
       "      <td>Ohio</td>\n",
       "      <td>Midwest</td>\n",
       "      <td>Human Trafficking</td>\n",
       "      <td>Involuntary Servitude</td>\n",
       "      <td>1</td>\n",
       "    </tr>\n",
       "    <tr>\n",
       "      <th>3</th>\n",
       "      <td>2013</td>\n",
       "      <td>City</td>\n",
       "      <td>Tennessee</td>\n",
       "      <td>South</td>\n",
       "      <td>Human Trafficking</td>\n",
       "      <td>Commercial Sex Acts</td>\n",
       "      <td>1</td>\n",
       "    </tr>\n",
       "    <tr>\n",
       "      <th>4</th>\n",
       "      <td>2013</td>\n",
       "      <td>City</td>\n",
       "      <td>Tennessee</td>\n",
       "      <td>South</td>\n",
       "      <td>Human Trafficking</td>\n",
       "      <td>Commercial Sex Acts</td>\n",
       "      <td>3</td>\n",
       "    </tr>\n",
       "  </tbody>\n",
       "</table>\n",
       "</div>"
      ],
      "text/plain": [
       "   DATA_YEAR AGENCY_TYPE_NAME STATE_NAME REGION_NAME       OFFENSE_NAME  \\\n",
       "0       2013           County   Missouri     Midwest  Human Trafficking   \n",
       "1       2013           County       Ohio     Midwest  Human Trafficking   \n",
       "2       2013           County       Ohio     Midwest  Human Trafficking   \n",
       "3       2013             City  Tennessee       South  Human Trafficking   \n",
       "4       2013             City  Tennessee       South  Human Trafficking   \n",
       "\n",
       "     OFFENSE_SUBCAT_NAME  ACTUAL_COUNT  \n",
       "0    Commercial Sex Acts             6  \n",
       "1    Commercial Sex Acts             1  \n",
       "2  Involuntary Servitude             1  \n",
       "3    Commercial Sex Acts             1  \n",
       "4    Commercial Sex Acts             3  "
      ]
     },
     "execution_count": 23,
     "metadata": {},
     "output_type": "execute_result"
    }
   ],
   "source": [
    "dfsub.head()"
   ]
  },
  {
   "cell_type": "code",
   "execution_count": 25,
   "id": "7cd51712",
   "metadata": {},
   "outputs": [],
   "source": [
    "# change data types in dfsub from object to category in roder to better serve the exercise\n",
    "\n",
    "dfsub['AGENCY_TYPE_NAME'] = dfsub['AGENCY_TYPE_NAME'].astype('category').cat.codes\n",
    "dfsub['STATE_NAME'] = dfsub['STATE_NAME'].astype('category').cat.codes\n",
    "dfsub['OFFENSE_SUBCAT_NAME'] = dfsub['OFFENSE_SUBCAT_NAME'].astype('category').cat.codes\n",
    "dfsub['REGION_NAME'] = dfsub['REGION_NAME'].astype('category').cat.codes\n",
    "dfsub['OFFENSE_NAME'] = dfsub['OFFENSE_NAME'].astype('category').cat.codes"
   ]
  },
  {
   "cell_type": "code",
   "execution_count": 26,
   "id": "3fed89d8",
   "metadata": {},
   "outputs": [
    {
     "data": {
      "text/plain": [
       "DATA_YEAR              int64\n",
       "AGENCY_TYPE_NAME        int8\n",
       "STATE_NAME              int8\n",
       "REGION_NAME             int8\n",
       "OFFENSE_NAME            int8\n",
       "OFFENSE_SUBCAT_NAME     int8\n",
       "ACTUAL_COUNT           int64\n",
       "dtype: object"
      ]
     },
     "execution_count": 26,
     "metadata": {},
     "output_type": "execute_result"
    }
   ],
   "source": [
    "dfsub.dtypes"
   ]
  },
  {
   "cell_type": "code",
   "execution_count": 27,
   "id": "8ef86e72",
   "metadata": {},
   "outputs": [],
   "source": [
    "# rename columns for shorter, clearer names\n",
    "dfsub.rename(columns = {'DATA_YEAR' : 'Year', 'AGENCY_TYPE_NAME' : 'Agency Type', 'STATE_NAME' : 'State', 'REGION_NAME' : 'Region', 'OFFENSE_NAME' : 'Offense', 'OFFENSE_SUBCAT_NAME' : 'Offense Subcat', 'ACTUAL_COUNT' : 'Offense Count' }, inplace = True)"
   ]
  },
  {
   "cell_type": "code",
   "execution_count": 28,
   "id": "21267b83",
   "metadata": {},
   "outputs": [
    {
     "data": {
      "text/plain": [
       "Year              int64\n",
       "Agency Type        int8\n",
       "State              int8\n",
       "Region             int8\n",
       "Offense            int8\n",
       "Offense Subcat     int8\n",
       "Offense Count     int64\n",
       "dtype: object"
      ]
     },
     "execution_count": 28,
     "metadata": {},
     "output_type": "execute_result"
    }
   ],
   "source": [
    "dfsub.dtypes"
   ]
  },
  {
   "cell_type": "markdown",
   "id": "c50b9bc8",
   "metadata": {},
   "source": [
    "#### save new Dataframe"
   ]
  },
  {
   "cell_type": "code",
   "execution_count": 29,
   "id": "50372910",
   "metadata": {},
   "outputs": [],
   "source": [
    "dfsub.to_csv(os.path.join(path, 'Data', 'FBI Trafficking CLEANED.csv'))"
   ]
  },
  {
   "cell_type": "code",
   "execution_count": 30,
   "id": "fb541b66",
   "metadata": {},
   "outputs": [
    {
     "data": {
      "text/html": [
       "<div>\n",
       "<style scoped>\n",
       "    .dataframe tbody tr th:only-of-type {\n",
       "        vertical-align: middle;\n",
       "    }\n",
       "\n",
       "    .dataframe tbody tr th {\n",
       "        vertical-align: top;\n",
       "    }\n",
       "\n",
       "    .dataframe thead th {\n",
       "        text-align: right;\n",
       "    }\n",
       "</style>\n",
       "<table border=\"1\" class=\"dataframe\">\n",
       "  <thead>\n",
       "    <tr style=\"text-align: right;\">\n",
       "      <th></th>\n",
       "      <th>Year</th>\n",
       "      <th>Agency Type</th>\n",
       "      <th>State</th>\n",
       "      <th>Region</th>\n",
       "      <th>Offense</th>\n",
       "      <th>Offense Subcat</th>\n",
       "      <th>Offense Count</th>\n",
       "    </tr>\n",
       "  </thead>\n",
       "  <tbody>\n",
       "    <tr>\n",
       "      <th>0</th>\n",
       "      <td>2013</td>\n",
       "      <td>1</td>\n",
       "      <td>25</td>\n",
       "      <td>0</td>\n",
       "      <td>0</td>\n",
       "      <td>0</td>\n",
       "      <td>6</td>\n",
       "    </tr>\n",
       "    <tr>\n",
       "      <th>1</th>\n",
       "      <td>2013</td>\n",
       "      <td>1</td>\n",
       "      <td>35</td>\n",
       "      <td>0</td>\n",
       "      <td>0</td>\n",
       "      <td>0</td>\n",
       "      <td>1</td>\n",
       "    </tr>\n",
       "    <tr>\n",
       "      <th>2</th>\n",
       "      <td>2013</td>\n",
       "      <td>1</td>\n",
       "      <td>35</td>\n",
       "      <td>0</td>\n",
       "      <td>0</td>\n",
       "      <td>1</td>\n",
       "      <td>1</td>\n",
       "    </tr>\n",
       "    <tr>\n",
       "      <th>3</th>\n",
       "      <td>2013</td>\n",
       "      <td>0</td>\n",
       "      <td>42</td>\n",
       "      <td>2</td>\n",
       "      <td>0</td>\n",
       "      <td>0</td>\n",
       "      <td>1</td>\n",
       "    </tr>\n",
       "    <tr>\n",
       "      <th>4</th>\n",
       "      <td>2013</td>\n",
       "      <td>0</td>\n",
       "      <td>42</td>\n",
       "      <td>2</td>\n",
       "      <td>0</td>\n",
       "      <td>0</td>\n",
       "      <td>3</td>\n",
       "    </tr>\n",
       "  </tbody>\n",
       "</table>\n",
       "</div>"
      ],
      "text/plain": [
       "   Year  Agency Type  State  Region  Offense  Offense Subcat  Offense Count\n",
       "0  2013            1     25       0        0               0              6\n",
       "1  2013            1     35       0        0               0              1\n",
       "2  2013            1     35       0        0               1              1\n",
       "3  2013            0     42       2        0               0              1\n",
       "4  2013            0     42       2        0               0              3"
      ]
     },
     "execution_count": 30,
     "metadata": {},
     "output_type": "execute_result"
    }
   ],
   "source": [
    "dfsub.head()"
   ]
  },
  {
   "cell_type": "markdown",
   "id": "56eb7899",
   "metadata": {},
   "source": [
    "#### Check for missing values"
   ]
  },
  {
   "cell_type": "code",
   "execution_count": 31,
   "id": "4f422815",
   "metadata": {},
   "outputs": [
    {
     "data": {
      "text/plain": [
       "Year              0\n",
       "Agency Type       0\n",
       "State             0\n",
       "Region            0\n",
       "Offense           0\n",
       "Offense Subcat    0\n",
       "Offense Count     0\n",
       "dtype: int64"
      ]
     },
     "execution_count": 31,
     "metadata": {},
     "output_type": "execute_result"
    }
   ],
   "source": [
    "# Check for missing values\n",
    "\n",
    "dfsub.isnull().sum()"
   ]
  },
  {
   "cell_type": "markdown",
   "id": "1778dcef",
   "metadata": {},
   "source": [
    "#### Duplicates Check"
   ]
  },
  {
   "cell_type": "code",
   "execution_count": 32,
   "id": "896b949b",
   "metadata": {},
   "outputs": [],
   "source": [
    "dups = df.duplicated()"
   ]
  },
  {
   "cell_type": "code",
   "execution_count": 33,
   "id": "dddcd34d",
   "metadata": {},
   "outputs": [
    {
     "data": {
      "text/plain": [
       "(3894,)"
      ]
     },
     "execution_count": 33,
     "metadata": {},
     "output_type": "execute_result"
    }
   ],
   "source": [
    "dups.shape "
   ]
  },
  {
   "cell_type": "markdown",
   "id": "ded129a7",
   "metadata": {},
   "source": [
    "#### Extreme Values Check\n"
   ]
  },
  {
   "cell_type": "code",
   "execution_count": 35,
   "id": "fd934132",
   "metadata": {},
   "outputs": [
    {
     "name": "stderr",
     "output_type": "stream",
     "text": [
      "C:\\Users\\Asus\\AppData\\Local\\Temp\\ipykernel_3176\\713084406.py:1: UserWarning: \n",
      "\n",
      "`distplot` is a deprecated function and will be removed in seaborn v0.14.0.\n",
      "\n",
      "Please adapt your code to use either `displot` (a figure-level function with\n",
      "similar flexibility) or `histplot` (an axes-level function for histograms).\n",
      "\n",
      "For a guide to updating your code to use the new functions, please see\n",
      "https://gist.github.com/mwaskom/de44147ed2974457ad6372750bbe5751\n",
      "\n",
      "  sns.distplot(dfsub['Offense Count'], bins=25)\n",
      "C:\\Users\\Asus\\anaconda3\\Lib\\site-packages\\seaborn\\_oldcore.py:1119: FutureWarning: use_inf_as_na option is deprecated and will be removed in a future version. Convert inf values to NaN before operating instead.\n",
      "  with pd.option_context('mode.use_inf_as_na', True):\n"
     ]
    },
    {
     "data": {
      "text/plain": [
       "<Axes: xlabel='Offense Count', ylabel='Density'>"
      ]
     },
     "execution_count": 35,
     "metadata": {},
     "output_type": "execute_result"
    },
    {
     "data": {
      "image/png": "[encoded data removed]",
      "text/plain": [
       "<Figure size 640x480 with 1 Axes>"
      ]
     },
     "metadata": {},
     "output_type": "display_data"
    }
   ],
   "source": [
    "sns.distplot(dfsub['Offense Count'], bins=25)"
   ]
  },
  {
   "cell_type": "code",
   "execution_count": 37,
   "id": "4268729f",
   "metadata": {},
   "outputs": [
    {
     "data": {
      "text/html": [
       "<div>\n",
       "<style scoped>\n",
       "    .dataframe tbody tr th:only-of-type {\n",
       "        vertical-align: middle;\n",
       "    }\n",
       "\n",
       "    .dataframe tbody tr th {\n",
       "        vertical-align: top;\n",
       "    }\n",
       "\n",
       "    .dataframe thead th {\n",
       "        text-align: right;\n",
       "    }\n",
       "</style>\n",
       "<table border=\"1\" class=\"dataframe\">\n",
       "  <thead>\n",
       "    <tr style=\"text-align: right;\">\n",
       "      <th></th>\n",
       "      <th>Year</th>\n",
       "      <th>Agency Type</th>\n",
       "      <th>State</th>\n",
       "      <th>Region</th>\n",
       "      <th>Offense</th>\n",
       "      <th>Offense Subcat</th>\n",
       "      <th>Offense Count</th>\n",
       "    </tr>\n",
       "  </thead>\n",
       "  <tbody>\n",
       "    <tr>\n",
       "      <th>182</th>\n",
       "      <td>2015</td>\n",
       "      <td>0</td>\n",
       "      <td>28</td>\n",
       "      <td>4</td>\n",
       "      <td>0</td>\n",
       "      <td>0</td>\n",
       "      <td>204</td>\n",
       "    </tr>\n",
       "    <tr>\n",
       "      <th>341</th>\n",
       "      <td>2016</td>\n",
       "      <td>1</td>\n",
       "      <td>18</td>\n",
       "      <td>2</td>\n",
       "      <td>0</td>\n",
       "      <td>0</td>\n",
       "      <td>114</td>\n",
       "    </tr>\n",
       "    <tr>\n",
       "      <th>409</th>\n",
       "      <td>2016</td>\n",
       "      <td>0</td>\n",
       "      <td>28</td>\n",
       "      <td>4</td>\n",
       "      <td>0</td>\n",
       "      <td>0</td>\n",
       "      <td>128</td>\n",
       "    </tr>\n",
       "    <tr>\n",
       "      <th>1036</th>\n",
       "      <td>2018</td>\n",
       "      <td>0</td>\n",
       "      <td>28</td>\n",
       "      <td>4</td>\n",
       "      <td>0</td>\n",
       "      <td>0</td>\n",
       "      <td>193</td>\n",
       "    </tr>\n",
       "    <tr>\n",
       "      <th>1489</th>\n",
       "      <td>2019</td>\n",
       "      <td>0</td>\n",
       "      <td>28</td>\n",
       "      <td>4</td>\n",
       "      <td>0</td>\n",
       "      <td>0</td>\n",
       "      <td>162</td>\n",
       "    </tr>\n",
       "    <tr>\n",
       "      <th>1613</th>\n",
       "      <td>2019</td>\n",
       "      <td>0</td>\n",
       "      <td>43</td>\n",
       "      <td>2</td>\n",
       "      <td>0</td>\n",
       "      <td>0</td>\n",
       "      <td>137</td>\n",
       "    </tr>\n",
       "    <tr>\n",
       "      <th>2066</th>\n",
       "      <td>2020</td>\n",
       "      <td>0</td>\n",
       "      <td>28</td>\n",
       "      <td>4</td>\n",
       "      <td>0</td>\n",
       "      <td>0</td>\n",
       "      <td>147</td>\n",
       "    </tr>\n",
       "    <tr>\n",
       "      <th>2223</th>\n",
       "      <td>2020</td>\n",
       "      <td>0</td>\n",
       "      <td>43</td>\n",
       "      <td>2</td>\n",
       "      <td>0</td>\n",
       "      <td>0</td>\n",
       "      <td>144</td>\n",
       "    </tr>\n",
       "    <tr>\n",
       "      <th>2740</th>\n",
       "      <td>2021</td>\n",
       "      <td>0</td>\n",
       "      <td>28</td>\n",
       "      <td>4</td>\n",
       "      <td>0</td>\n",
       "      <td>0</td>\n",
       "      <td>165</td>\n",
       "    </tr>\n",
       "    <tr>\n",
       "      <th>2921</th>\n",
       "      <td>2021</td>\n",
       "      <td>0</td>\n",
       "      <td>43</td>\n",
       "      <td>2</td>\n",
       "      <td>0</td>\n",
       "      <td>0</td>\n",
       "      <td>128</td>\n",
       "    </tr>\n",
       "    <tr>\n",
       "      <th>3556</th>\n",
       "      <td>2022</td>\n",
       "      <td>0</td>\n",
       "      <td>28</td>\n",
       "      <td>4</td>\n",
       "      <td>0</td>\n",
       "      <td>0</td>\n",
       "      <td>142</td>\n",
       "    </tr>\n",
       "  </tbody>\n",
       "</table>\n",
       "</div>"
      ],
      "text/plain": [
       "      Year  Agency Type  State  Region  Offense  Offense Subcat  Offense Count\n",
       "182   2015            0     28       4        0               0            204\n",
       "341   2016            1     18       2        0               0            114\n",
       "409   2016            0     28       4        0               0            128\n",
       "1036  2018            0     28       4        0               0            193\n",
       "1489  2019            0     28       4        0               0            162\n",
       "1613  2019            0     43       2        0               0            137\n",
       "2066  2020            0     28       4        0               0            147\n",
       "2223  2020            0     43       2        0               0            144\n",
       "2740  2021            0     28       4        0               0            165\n",
       "2921  2021            0     43       2        0               0            128\n",
       "3556  2022            0     28       4        0               0            142"
      ]
     },
     "execution_count": 37,
     "metadata": {},
     "output_type": "execute_result"
    }
   ],
   "source": [
    "dfsub[dfsub['Offense Count'] >100]"
   ]
  },
  {
   "cell_type": "code",
   "execution_count": 38,
   "id": "b34e3d2d",
   "metadata": {},
   "outputs": [
    {
     "data": {
      "text/plain": [
       "3.8605546995377504"
      ]
     },
     "execution_count": 38,
     "metadata": {},
     "output_type": "execute_result"
    }
   ],
   "source": [
    "# Check the mean\n",
    "dfsub['Offense Count'].mean()\n"
   ]
  },
  {
   "cell_type": "code",
   "execution_count": 39,
   "id": "95d105a1",
   "metadata": {},
   "outputs": [
    {
     "data": {
      "text/plain": [
       "1.0"
      ]
     },
     "execution_count": 39,
     "metadata": {},
     "output_type": "execute_result"
    }
   ],
   "source": [
    "# check the median\n",
    "dfsub['Offense Count'].median()"
   ]
  },
  {
   "cell_type": "code",
   "execution_count": 40,
   "id": "f447d9d7",
   "metadata": {},
   "outputs": [
    {
     "data": {
      "text/plain": [
       "204"
      ]
     },
     "execution_count": 40,
     "metadata": {},
     "output_type": "execute_result"
    }
   ],
   "source": [
    "# check the max\n",
    "dfsub['Offense Count'].max()"
   ]
  },
  {
   "cell_type": "markdown",
   "id": "8d514d29",
   "metadata": {},
   "source": [
    "## 3. Exploration for Regression Analysis - Scatterplots"
   ]
  },
  {
   "cell_type": "code",
   "execution_count": 41,
   "id": "e0d8cbe5",
   "metadata": {},
   "outputs": [
    {
     "data": {
      "image/png": "[encoded data removed]",
      "text/plain": [
       "<Figure size 640x480 with 1 Axes>"
      ]
     },
     "metadata": {},
     "output_type": "display_data"
    }
   ],
   "source": [
    "# Create a scatterplot Offense Count vs REgion\n",
    "\n",
    "dfsub.plot(x = 'Region', y='Offense Count',style='o')\n",
    "plt.title('US Region vs Offense Count')  \n",
    "plt.xlabel('Region')  \n",
    "plt.ylabel('Offense Count')  \n",
    "plt.show()"
   ]
  },
  {
   "cell_type": "code",
   "execution_count": 42,
   "id": "826d329e",
   "metadata": {},
   "outputs": [
    {
     "data": {
      "image/png": "[encoded data removed]",
      "text/plain": [
       "<Figure size 640x480 with 1 Axes>"
      ]
     },
     "metadata": {},
     "output_type": "display_data"
    }
   ],
   "source": [
    "# Create a scatterplot Offense Count vs State\n",
    "\n",
    "dfsub.plot(x = 'State', y='Offense Count',style='o')\n",
    "plt.title('US State vs Offense Count')  \n",
    "plt.xlabel('State')  \n",
    "plt.ylabel('Offense Count')  \n",
    "plt.show()"
   ]
  },
  {
   "cell_type": "code",
   "execution_count": 43,
   "id": "3b9143d8",
   "metadata": {},
   "outputs": [
    {
     "data": {
      "text/plain": [
       "0       25\n",
       "1       35\n",
       "2       35\n",
       "3       42\n",
       "4       42\n",
       "        ..\n",
       "3889    50\n",
       "3890    50\n",
       "3891    50\n",
       "3892    50\n",
       "3893    50\n",
       "Name: State, Length: 3894, dtype: int8"
      ]
     },
     "execution_count": 43,
     "metadata": {},
     "output_type": "execute_result"
    }
   ],
   "source": [
    "dfsub.State"
   ]
  },
  {
   "cell_type": "code",
   "execution_count": 47,
   "id": "119e0753",
   "metadata": {},
   "outputs": [
    {
     "data": {
      "text/plain": [
       "0        Missouri\n",
       "1            Ohio\n",
       "2            Ohio\n",
       "3       Tennessee\n",
       "4       Tennessee\n",
       "          ...    \n",
       "3889      Wyoming\n",
       "3890      Wyoming\n",
       "3891      Wyoming\n",
       "3892      Wyoming\n",
       "3893      Wyoming\n",
       "Name: STATE_NAME, Length: 3894, dtype: object"
      ]
     },
     "execution_count": 47,
     "metadata": {},
     "output_type": "execute_result"
    }
   ],
   "source": [
    "df.STATE_NAME"
   ]
  },
  {
   "cell_type": "markdown",
   "id": "3aa7d673",
   "metadata": {},
   "source": [
    "### Create a scatterplot and look for variables "
   ]
  },
  {
   "cell_type": "code",
   "execution_count": 48,
   "id": "9fecff5c",
   "metadata": {},
   "outputs": [
    {
     "data": {
      "image/png": "[encoded data removed]",
      "text/plain": [
       "<Figure size 640x480 with 1 Axes>"
      ]
     },
     "metadata": {},
     "output_type": "display_data"
    }
   ],
   "source": [
    "# Create a scatterplot Offense Count vs Agency Type\n",
    "\n",
    "dfsub.plot(x = 'Agency Type', y='Offense Count',style='o')\n",
    "plt.title('US Agency vs Offense Count')  \n",
    "plt.xlabel('Agency Type')  \n",
    "plt.ylabel('Offense Count')  \n",
    "plt.show()"
   ]
  },
  {
   "cell_type": "markdown",
   "id": "cd1d6aaa",
   "metadata": {},
   "source": [
    "#### Working Hypothesis: \n",
    "\n",
    "1.\tIf we could increase encarceration rates and criminal sentencing punishments of people paying for sexual activity and people caught trafficking humans for sexual activity in US cities, we could considerably decrease (and hope to eliminate) the number of people being used for sex trafficking in US cities."
   ]
  },
  {
   "cell_type": "markdown",
   "id": "168abbcb",
   "metadata": {},
   "source": [
    "### Reshape variables into NumPy arrays"
   ]
  },
  {
   "cell_type": "code",
   "execution_count": 49,
   "id": "46b27494",
   "metadata": {},
   "outputs": [],
   "source": [
    "# Reshape the variables into NumPy arrays and put them into separate objects.\n",
    "\n",
    "X = dfsub['Agency Type'].values.reshape(-1,1)\n",
    "y = dfsub['Offense Count'].values.reshape(-1,1)"
   ]
  },
  {
   "cell_type": "code",
   "execution_count": 50,
   "id": "ad1e524e",
   "metadata": {},
   "outputs": [
    {
     "data": {
      "text/plain": [
       "array([[1],\n",
       "       [1],\n",
       "       [1],\n",
       "       ...,\n",
       "       [0],\n",
       "       [1],\n",
       "       [1]], dtype=int8)"
      ]
     },
     "execution_count": 50,
     "metadata": {},
     "output_type": "execute_result"
    }
   ],
   "source": [
    "X"
   ]
  },
  {
   "cell_type": "code",
   "execution_count": 51,
   "id": "0e6dca2c",
   "metadata": {},
   "outputs": [
    {
     "data": {
      "text/plain": [
       "array([[6],\n",
       "       [1],\n",
       "       [1],\n",
       "       ...,\n",
       "       [1],\n",
       "       [1],\n",
       "       [2]], dtype=int64)"
      ]
     },
     "execution_count": 51,
     "metadata": {},
     "output_type": "execute_result"
    }
   ],
   "source": [
    "y"
   ]
  },
  {
   "cell_type": "markdown",
   "id": "3dd68ef0",
   "metadata": {},
   "source": [
    "### Split data into Training and Test sets"
   ]
  },
  {
   "cell_type": "code",
   "execution_count": 52,
   "id": "3615b1b8",
   "metadata": {},
   "outputs": [],
   "source": [
    "# Split data into a training set and a test set.\n",
    "\n",
    "X_train, X_test, y_train, y_test = train_test_split(X, y, test_size=0.3, random_state=0)"
   ]
  },
  {
   "cell_type": "markdown",
   "id": "d280991f",
   "metadata": {},
   "source": [
    "### Run Linear Regression of the data "
   ]
  },
  {
   "cell_type": "code",
   "execution_count": 53,
   "id": "b045aa72",
   "metadata": {},
   "outputs": [],
   "source": [
    "# Create a regression object.\n",
    "# This is the regression object, which will be fit onto the training set.\n",
    "regression = LinearRegression()  "
   ]
  },
  {
   "cell_type": "code",
   "execution_count": 54,
   "id": "730ac106",
   "metadata": {},
   "outputs": [
    {
     "data": {
      "text/html": [
       "<style>#sk-container-id-1 {color: black;}#sk-container-id-1 pre{padding: 0;}#sk-container-id-1 div.sk-toggleable {background-color: white;}#sk-container-id-1 label.sk-toggleable__label {cursor: pointer;display: block;width: 100%;margin-bottom: 0;padding: 0.3em;box-sizing: border-box;text-align: center;}#sk-container-id-1 label.sk-toggleable__label-arrow:before {content: \"▸\";float: left;margin-right: 0.25em;color: #696969;}#sk-container-id-1 label.sk-toggleable__label-arrow:hover:before {color: black;}#sk-container-id-1 div.sk-estimator:hover label.sk-toggleable__label-arrow:before {color: black;}#sk-container-id-1 div.sk-toggleable__content {max-height: 0;max-width: 0;overflow: hidden;text-align: left;background-color: #f0f8ff;}#sk-container-id-1 div.sk-toggleable__content pre {margin: 0.2em;color: black;border-radius: 0.25em;background-color: #f0f8ff;}#sk-container-id-1 input.sk-toggleable__control:checked~div.sk-toggleable__content {max-height: 200px;max-width: 100%;overflow: auto;}#sk-container-id-1 input.sk-toggleable__control:checked~label.sk-toggleable__label-arrow:before {content: \"▾\";}#sk-container-id-1 div.sk-estimator input.sk-toggleable__control:checked~label.sk-toggleable__label {background-color: #d4ebff;}#sk-container-id-1 div.sk-label input.sk-toggleable__control:checked~label.sk-toggleable__label {background-color: #d4ebff;}#sk-container-id-1 input.sk-hidden--visually {border: 0;clip: rect(1px 1px 1px 1px);clip: rect(1px, 1px, 1px, 1px);height: 1px;margin: -1px;overflow: hidden;padding: 0;position: absolute;width: 1px;}#sk-container-id-1 div.sk-estimator {font-family: monospace;background-color: #f0f8ff;border: 1px dotted black;border-radius: 0.25em;box-sizing: border-box;margin-bottom: 0.5em;}#sk-container-id-1 div.sk-estimator:hover {background-color: #d4ebff;}#sk-container-id-1 div.sk-parallel-item::after {content: \"\";width: 100%;border-bottom: 1px solid gray;flex-grow: 1;}#sk-container-id-1 div.sk-label:hover label.sk-toggleable__label {background-color: #d4ebff;}#sk-container-id-1 div.sk-serial::before {content: \"\";position: absolute;border-left: 1px solid gray;box-sizing: border-box;top: 0;bottom: 0;left: 50%;z-index: 0;}#sk-container-id-1 div.sk-serial {display: flex;flex-direction: column;align-items: center;background-color: white;padding-right: 0.2em;padding-left: 0.2em;position: relative;}#sk-container-id-1 div.sk-item {position: relative;z-index: 1;}#sk-container-id-1 div.sk-parallel {display: flex;align-items: stretch;justify-content: center;background-color: white;position: relative;}#sk-container-id-1 div.sk-item::before, #sk-container-id-1 div.sk-parallel-item::before {content: \"\";position: absolute;border-left: 1px solid gray;box-sizing: border-box;top: 0;bottom: 0;left: 50%;z-index: -1;}#sk-container-id-1 div.sk-parallel-item {display: flex;flex-direction: column;z-index: 1;position: relative;background-color: white;}#sk-container-id-1 div.sk-parallel-item:first-child::after {align-self: flex-end;width: 50%;}#sk-container-id-1 div.sk-parallel-item:last-child::after {align-self: flex-start;width: 50%;}#sk-container-id-1 div.sk-parallel-item:only-child::after {width: 0;}#sk-container-id-1 div.sk-dashed-wrapped {border: 1px dashed gray;margin: 0 0.4em 0.5em 0.4em;box-sizing: border-box;padding-bottom: 0.4em;background-color: white;}#sk-container-id-1 div.sk-label label {font-family: monospace;font-weight: bold;display: inline-block;line-height: 1.2em;}#sk-container-id-1 div.sk-label-container {text-align: center;}#sk-container-id-1 div.sk-container {/* jupyter's `normalize.less` sets `[hidden] { display: none; }` but bootstrap.min.css set `[hidden] { display: none !important; }` so we also need the `!important` here to be able to override the default hidden behavior on the sphinx rendered scikit-learn.org. See: https://github.com/scikit-learn/scikit-learn/issues/21755 */display: inline-block !important;position: relative;}#sk-container-id-1 div.sk-text-repr-fallback {display: none;}</style><div id=\"sk-container-id-1\" class=\"sk-top-container\"><div class=\"sk-text-repr-fallback\"><pre>LinearRegression()</pre><b>In a Jupyter environment, please rerun this cell to show the HTML representation or trust the notebook. <br />On GitHub, the HTML representation is unable to render, please try loading this page with nbviewer.org.</b></div><div class=\"sk-container\" hidden><div class=\"sk-item\"><div class=\"sk-estimator sk-toggleable\"><input class=\"sk-toggleable__control sk-hidden--visually\" id=\"sk-estimator-id-1\" type=\"checkbox\" checked><label for=\"sk-estimator-id-1\" class=\"sk-toggleable__label sk-toggleable__label-arrow\">LinearRegression</label><div class=\"sk-toggleable__content\"><pre>LinearRegression()</pre></div></div></div></div></div>"
      ],
      "text/plain": [
       "LinearRegression()"
      ]
     },
     "execution_count": 54,
     "metadata": {},
     "output_type": "execute_result"
    }
   ],
   "source": [
    "# Fit the regression object onto the training set.\n",
    "\n",
    "regression.fit(X_train, y_train)"
   ]
  },
  {
   "cell_type": "code",
   "execution_count": 55,
   "id": "7214f5c9",
   "metadata": {},
   "outputs": [],
   "source": [
    "# Predict the values of y using X.\n",
    "\n",
    "y_predicted = regression.predict(X_test)"
   ]
  },
  {
   "cell_type": "markdown",
   "id": "0bf12807",
   "metadata": {},
   "source": [
    "### Create a plot to show regression line on test set"
   ]
  },
  {
   "cell_type": "code",
   "execution_count": 57,
   "id": "32278a3d",
   "metadata": {},
   "outputs": [
    {
     "data": {
      "image/png": "[encoded data removed]",
      "text/plain": [
       "<Figure size 640x480 with 1 Axes>"
      ]
     },
     "metadata": {},
     "output_type": "display_data"
    }
   ],
   "source": [
    "# Create a plot that shows the regression line from the model on the test set.\n",
    "\n",
    "plot_test = plt\n",
    "plot_test.scatter(X_test, y_test, color='purple', s = 15)\n",
    "plot_test.plot(X_test, y_predicted, color='red', linewidth =3)\n",
    "plot_test.title('Agency Type vs Offense Count (Test set)')\n",
    "plot_test.xlabel('Agency Type')\n",
    "plot_test.ylabel('Offense Count')\n",
    "plot_test.show()"
   ]
  },
  {
   "cell_type": "markdown",
   "id": "70929210",
   "metadata": {},
   "source": [
    "### Observations:\n",
    "\n",
    "The line appears to fit the data but only in the sense that every Agency experienced some level of trafficking (albeit smoe more than others), but the line itself does not show any type of positive or negative regression. If we look closely there is an almost indetectable negative regression. What we CAN see clearly is that certain agencies experince higher volumes of trafficking compared to others.    "
   ]
  },
  {
   "cell_type": "markdown",
   "id": "fad60e5e",
   "metadata": {},
   "source": [
    "### Check model performance statistics"
   ]
  },
  {
   "cell_type": "code",
   "execution_count": 58,
   "id": "709d67c6",
   "metadata": {},
   "outputs": [],
   "source": [
    "# Create objects that contain the model summary statistics.\n",
    "\n",
    "rmse = mean_squared_error(y_test, y_predicted) # This is the mean squared error\n",
    "r2 = r2_score(y_test, y_predicted) # This is the R2 score. "
   ]
  },
  {
   "cell_type": "code",
   "execution_count": 59,
   "id": "919a7458",
   "metadata": {},
   "outputs": [
    {
     "name": "stdout",
     "output_type": "stream",
     "text": [
      "Slope: [[-0.41829802]]\n",
      "Mean squared error:  157.31949223676685\n",
      "R2 score:  0.0015818587305543863\n"
     ]
    }
   ],
   "source": [
    "# Print the model summary statistics. This is where you evaluate the performance of the model.\n",
    "\n",
    "print('Slope:' ,regression.coef_)\n",
    "print('Mean squared error: ', rmse)\n",
    "print('R2 score: ', r2)"
   ]
  },
  {
   "cell_type": "code",
   "execution_count": 60,
   "id": "764c5aa5",
   "metadata": {},
   "outputs": [
    {
     "data": {
      "text/plain": [
       "array([[2.40577252],\n",
       "       [2.82407054],\n",
       "       [4.07896461],\n",
       "       ...,\n",
       "       [4.07896461],\n",
       "       [3.66066658],\n",
       "       [3.66066658]])"
      ]
     },
     "execution_count": 60,
     "metadata": {},
     "output_type": "execute_result"
    }
   ],
   "source": [
    "y_predicted"
   ]
  },
  {
   "cell_type": "code",
   "execution_count": 61,
   "id": "261a3f42",
   "metadata": {},
   "outputs": [
    {
     "data": {
      "text/html": [
       "<div>\n",
       "<style scoped>\n",
       "    .dataframe tbody tr th:only-of-type {\n",
       "        vertical-align: middle;\n",
       "    }\n",
       "\n",
       "    .dataframe tbody tr th {\n",
       "        vertical-align: top;\n",
       "    }\n",
       "\n",
       "    .dataframe thead th {\n",
       "        text-align: right;\n",
       "    }\n",
       "</style>\n",
       "<table border=\"1\" class=\"dataframe\">\n",
       "  <thead>\n",
       "    <tr style=\"text-align: right;\">\n",
       "      <th></th>\n",
       "      <th>Actual</th>\n",
       "      <th>Predicted</th>\n",
       "    </tr>\n",
       "  </thead>\n",
       "  <tbody>\n",
       "    <tr>\n",
       "      <th>0</th>\n",
       "      <td>1</td>\n",
       "      <td>2.405773</td>\n",
       "    </tr>\n",
       "    <tr>\n",
       "      <th>1</th>\n",
       "      <td>2</td>\n",
       "      <td>2.824071</td>\n",
       "    </tr>\n",
       "    <tr>\n",
       "      <th>2</th>\n",
       "      <td>2</td>\n",
       "      <td>4.078965</td>\n",
       "    </tr>\n",
       "    <tr>\n",
       "      <th>3</th>\n",
       "      <td>1</td>\n",
       "      <td>3.660667</td>\n",
       "    </tr>\n",
       "    <tr>\n",
       "      <th>4</th>\n",
       "      <td>1</td>\n",
       "      <td>4.078965</td>\n",
       "    </tr>\n",
       "    <tr>\n",
       "      <th>5</th>\n",
       "      <td>1</td>\n",
       "      <td>4.078965</td>\n",
       "    </tr>\n",
       "    <tr>\n",
       "      <th>6</th>\n",
       "      <td>1</td>\n",
       "      <td>4.078965</td>\n",
       "    </tr>\n",
       "    <tr>\n",
       "      <th>7</th>\n",
       "      <td>15</td>\n",
       "      <td>2.824071</td>\n",
       "    </tr>\n",
       "    <tr>\n",
       "      <th>8</th>\n",
       "      <td>1</td>\n",
       "      <td>3.660667</td>\n",
       "    </tr>\n",
       "    <tr>\n",
       "      <th>9</th>\n",
       "      <td>1</td>\n",
       "      <td>4.078965</td>\n",
       "    </tr>\n",
       "    <tr>\n",
       "      <th>10</th>\n",
       "      <td>20</td>\n",
       "      <td>3.660667</td>\n",
       "    </tr>\n",
       "    <tr>\n",
       "      <th>11</th>\n",
       "      <td>1</td>\n",
       "      <td>4.078965</td>\n",
       "    </tr>\n",
       "    <tr>\n",
       "      <th>12</th>\n",
       "      <td>1</td>\n",
       "      <td>4.078965</td>\n",
       "    </tr>\n",
       "    <tr>\n",
       "      <th>13</th>\n",
       "      <td>1</td>\n",
       "      <td>3.660667</td>\n",
       "    </tr>\n",
       "    <tr>\n",
       "      <th>14</th>\n",
       "      <td>1</td>\n",
       "      <td>4.078965</td>\n",
       "    </tr>\n",
       "    <tr>\n",
       "      <th>15</th>\n",
       "      <td>1</td>\n",
       "      <td>4.078965</td>\n",
       "    </tr>\n",
       "    <tr>\n",
       "      <th>16</th>\n",
       "      <td>1</td>\n",
       "      <td>3.660667</td>\n",
       "    </tr>\n",
       "    <tr>\n",
       "      <th>17</th>\n",
       "      <td>2</td>\n",
       "      <td>4.078965</td>\n",
       "    </tr>\n",
       "    <tr>\n",
       "      <th>18</th>\n",
       "      <td>2</td>\n",
       "      <td>3.660667</td>\n",
       "    </tr>\n",
       "    <tr>\n",
       "      <th>19</th>\n",
       "      <td>3</td>\n",
       "      <td>4.078965</td>\n",
       "    </tr>\n",
       "    <tr>\n",
       "      <th>20</th>\n",
       "      <td>1</td>\n",
       "      <td>4.078965</td>\n",
       "    </tr>\n",
       "    <tr>\n",
       "      <th>21</th>\n",
       "      <td>2</td>\n",
       "      <td>4.078965</td>\n",
       "    </tr>\n",
       "    <tr>\n",
       "      <th>22</th>\n",
       "      <td>3</td>\n",
       "      <td>4.078965</td>\n",
       "    </tr>\n",
       "    <tr>\n",
       "      <th>23</th>\n",
       "      <td>2</td>\n",
       "      <td>4.078965</td>\n",
       "    </tr>\n",
       "    <tr>\n",
       "      <th>24</th>\n",
       "      <td>1</td>\n",
       "      <td>3.660667</td>\n",
       "    </tr>\n",
       "    <tr>\n",
       "      <th>25</th>\n",
       "      <td>1</td>\n",
       "      <td>4.078965</td>\n",
       "    </tr>\n",
       "    <tr>\n",
       "      <th>26</th>\n",
       "      <td>2</td>\n",
       "      <td>4.078965</td>\n",
       "    </tr>\n",
       "    <tr>\n",
       "      <th>27</th>\n",
       "      <td>1</td>\n",
       "      <td>3.660667</td>\n",
       "    </tr>\n",
       "    <tr>\n",
       "      <th>28</th>\n",
       "      <td>1</td>\n",
       "      <td>3.660667</td>\n",
       "    </tr>\n",
       "    <tr>\n",
       "      <th>29</th>\n",
       "      <td>1</td>\n",
       "      <td>3.660667</td>\n",
       "    </tr>\n",
       "    <tr>\n",
       "      <th>30</th>\n",
       "      <td>3</td>\n",
       "      <td>3.660667</td>\n",
       "    </tr>\n",
       "    <tr>\n",
       "      <th>31</th>\n",
       "      <td>2</td>\n",
       "      <td>4.078965</td>\n",
       "    </tr>\n",
       "    <tr>\n",
       "      <th>32</th>\n",
       "      <td>2</td>\n",
       "      <td>4.078965</td>\n",
       "    </tr>\n",
       "    <tr>\n",
       "      <th>33</th>\n",
       "      <td>1</td>\n",
       "      <td>2.405773</td>\n",
       "    </tr>\n",
       "    <tr>\n",
       "      <th>34</th>\n",
       "      <td>6</td>\n",
       "      <td>4.078965</td>\n",
       "    </tr>\n",
       "    <tr>\n",
       "      <th>35</th>\n",
       "      <td>1</td>\n",
       "      <td>4.078965</td>\n",
       "    </tr>\n",
       "    <tr>\n",
       "      <th>36</th>\n",
       "      <td>1</td>\n",
       "      <td>4.078965</td>\n",
       "    </tr>\n",
       "    <tr>\n",
       "      <th>37</th>\n",
       "      <td>1</td>\n",
       "      <td>4.078965</td>\n",
       "    </tr>\n",
       "    <tr>\n",
       "      <th>38</th>\n",
       "      <td>1</td>\n",
       "      <td>4.078965</td>\n",
       "    </tr>\n",
       "    <tr>\n",
       "      <th>39</th>\n",
       "      <td>2</td>\n",
       "      <td>4.078965</td>\n",
       "    </tr>\n",
       "  </tbody>\n",
       "</table>\n",
       "</div>"
      ],
      "text/plain": [
       "    Actual  Predicted\n",
       "0        1   2.405773\n",
       "1        2   2.824071\n",
       "2        2   4.078965\n",
       "3        1   3.660667\n",
       "4        1   4.078965\n",
       "5        1   4.078965\n",
       "6        1   4.078965\n",
       "7       15   2.824071\n",
       "8        1   3.660667\n",
       "9        1   4.078965\n",
       "10      20   3.660667\n",
       "11       1   4.078965\n",
       "12       1   4.078965\n",
       "13       1   3.660667\n",
       "14       1   4.078965\n",
       "15       1   4.078965\n",
       "16       1   3.660667\n",
       "17       2   4.078965\n",
       "18       2   3.660667\n",
       "19       3   4.078965\n",
       "20       1   4.078965\n",
       "21       2   4.078965\n",
       "22       3   4.078965\n",
       "23       2   4.078965\n",
       "24       1   3.660667\n",
       "25       1   4.078965\n",
       "26       2   4.078965\n",
       "27       1   3.660667\n",
       "28       1   3.660667\n",
       "29       1   3.660667\n",
       "30       3   3.660667\n",
       "31       2   4.078965\n",
       "32       2   4.078965\n",
       "33       1   2.405773\n",
       "34       6   4.078965\n",
       "35       1   4.078965\n",
       "36       1   4.078965\n",
       "37       1   4.078965\n",
       "38       1   4.078965\n",
       "39       2   4.078965"
      ]
     },
     "execution_count": 61,
     "metadata": {},
     "output_type": "execute_result"
    }
   ],
   "source": [
    "# Create a dataframe comparing the actual and predicted values of y.\n",
    "\n",
    "data = pd.DataFrame({'Actual': y_test.flatten(), 'Predicted': y_predicted.flatten()})\n",
    "data.head(40)"
   ]
  },
  {
   "cell_type": "markdown",
   "id": "ecb8a7dd",
   "metadata": {},
   "source": [
    "### Compare predicted y with actual y "
   ]
  },
  {
   "cell_type": "code",
   "execution_count": 62,
   "id": "fad7a2b5",
   "metadata": {},
   "outputs": [],
   "source": [
    " # This predicts X_train\n",
    "    \n",
    "y_predicted_train = regression.predict(X_train)"
   ]
  },
  {
   "cell_type": "code",
   "execution_count": 63,
   "id": "36ffd3be",
   "metadata": {},
   "outputs": [],
   "source": [
    "rmse = mean_squared_error(y_train, y_predicted_train)\n",
    "r2 = r2_score(y_train, y_predicted_train)"
   ]
  },
  {
   "cell_type": "code",
   "execution_count": 64,
   "id": "da0553b5",
   "metadata": {},
   "outputs": [
    {
     "name": "stdout",
     "output_type": "stream",
     "text": [
      "Slope: [[-0.41829802]]\n",
      "Mean squared error:  88.31130287849362\n",
      "R2 score:  0.002617323714445674\n"
     ]
    }
   ],
   "source": [
    "print('Slope:' ,regression.coef_)\n",
    "print('Mean squared error: ', rmse)\n",
    "print('R2 score: ', r2)"
   ]
  },
  {
   "cell_type": "code",
   "execution_count": 66,
   "id": "5d15ceef",
   "metadata": {},
   "outputs": [
    {
     "data": {
      "image/png": "[encoded data removed]",
      "text/plain": [
       "<Figure size 640x480 with 1 Axes>"
      ]
     },
     "metadata": {},
     "output_type": "display_data"
    }
   ],
   "source": [
    "# Visualizing the training set results.\n",
    "\n",
    "plot_test = plt\n",
    "plot_test.scatter(X_train, y_train, color='purple', s = 15)\n",
    "plot_test.plot(X_train, y_predicted_train, color='red', linewidth =3)\n",
    "plot_test.title('Agency Type vs Offense Count (Train set)')\n",
    "plot_test.xlabel('Agency Type')\n",
    "plot_test.ylabel('Offense Count')\n",
    "plot_test.show()"
   ]
  },
  {
   "cell_type": "markdown",
   "id": "b6ceefbe",
   "metadata": {},
   "source": [
    "## Final Thoughts:\n",
    "\n",
    "1. The R2 socre for my model was .0015 (actual  .0026). This clearly shows that my model is not a great fit.\n",
    "2. We can see that there is a substantial difference between my predicted y values and my actual y values, which adds to the conclusion that my model is not working well enough to explain a relationship between Agency Type and Offense Count. \n",
    "3. Although my model has been proven to be inaccurate, it does not completely disprove my hypothesis: \n",
    "###### If we could increase encarceration rates and criminal sentencing punishments of people paying for sexual activity and people caught trafficking humans for sexual activity in US cities, we could considerably decrease (and hope to eliminate) the number of people being used for sex trafficking in US cities.\n",
    "4. A new hypothesis that we could arrive at, given the data presented, is the following: \n",
    "###### The more remote (distance) the Agency involved in aprehending trafficking criminals is, the lower the success rate of arrests.\n"
   ]
  },
  {
   "cell_type": "code",
   "execution_count": null,
   "id": "28797c6b",
   "metadata": {},
   "outputs": [],
   "source": []
  }
 ],
 "metadata": {
  "kernelspec": {
   "display_name": "Python 3 (ipykernel)",
   "language": "python",
   "name": "python3"
  },
  "language_info": {
   "codemirror_mode": {
    "name": "ipython",
    "version": 3
   },
   "file_extension": ".py",
   "mimetype": "text/x-python",
   "name": "python",
   "nbconvert_exporter": "python",
   "pygments_lexer": "ipython3",
   "version": "3.11.5"
  }
 },
 "nbformat": 4,
 "nbformat_minor": 5
}
